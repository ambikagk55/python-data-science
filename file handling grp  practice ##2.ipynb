{
 "cells": [
  {
   "cell_type": "code",
   "execution_count": 1,
   "id": "fca68cb4",
   "metadata": {},
   "outputs": [],
   "source": [
    "my_file = open(\"my_text.text\",\"x\")"
   ]
  },
  {
   "cell_type": "code",
   "execution_count": 2,
   "id": "5dc7e9a9",
   "metadata": {},
   "outputs": [
    {
     "name": "stdout",
     "output_type": "stream",
     "text": [
      "i am akash\n"
     ]
    }
   ],
   "source": [
    "my_file = open(\"my_text.text\",\"w\")\n",
    "my_file.write(\"i am akash\")\n",
    "my_file =open(\"my_text.text\",\"r\")\n",
    "print(my_file.read())"
   ]
  },
  {
   "cell_type": "code",
   "execution_count": 5,
   "id": "b4a5608a",
   "metadata": {},
   "outputs": [
    {
     "name": "stdout",
     "output_type": "stream",
     "text": [
      "i am akashi am akash i am ambika  i am ambika\n"
     ]
    }
   ],
   "source": [
    "my_file = open(\"my_text.text\",\"a\")\n",
    "my_file.write(\"  i am ambika\")\n",
    "my_file =open(\"my_text.text\",\"r\")\n",
    "print(my_file.read())"
   ]
  },
  {
   "cell_type": "code",
   "execution_count": 7,
   "id": "41fc94a9",
   "metadata": {},
   "outputs": [
    {
     "name": "stdout",
     "output_type": "stream",
     "text": [
      "welcome to data scih i am ambika  i am ambika\n"
     ]
    }
   ],
   "source": [
    "my_file = open(\"my_text.text\",\"r+\")\n",
    "my_file.write(\"welcome to data sci\")\n",
    "my_file =open(\"my_text.text\",\"r\")\n",
    "print(my_file.read())"
   ]
  },
  {
   "cell_type": "code",
   "execution_count": 8,
   "id": "77fd8ff5",
   "metadata": {},
   "outputs": [
    {
     "name": "stdout",
     "output_type": "stream",
     "text": [
      "welcome to data sci\n"
     ]
    }
   ],
   "source": [
    "my_file = open(\"my_text.text\",\"w+\")\n",
    "my_file.write(\"welcome to data sci\")\n",
    "my_file =open(\"my_text.text\",\"r\")\n",
    "print(my_file.read())"
   ]
  },
  {
   "cell_type": "code",
   "execution_count": 1,
   "id": "a2bbc452",
   "metadata": {},
   "outputs": [
    {
     "name": "stdout",
     "output_type": "stream",
     "text": [
      "welcome tushar\n"
     ]
    }
   ],
   "source": [
    "my_file = open(\"my_file\",\"w+\")\n",
    "my_file.write(\"welcome tushar\")\n",
    "my_file = open(\"my_file\",\"r\")\n",
    "print(my_file.read())"
   ]
  },
  {
   "cell_type": "code",
   "execution_count": null,
   "id": "1358cd45",
   "metadata": {},
   "outputs": [],
   "source": []
  },
  {
   "cell_type": "code",
   "execution_count": 9,
   "id": "54821871",
   "metadata": {},
   "outputs": [
    {
     "name": "stdout",
     "output_type": "stream",
     "text": [
      "welcome to data sciwelcome to data sci\n"
     ]
    }
   ],
   "source": [
    "my_file = open(\"my_text.text\",\"a+\")\n",
    "my_file.write(\"welcome to data sci\")\n",
    "my_file =open(\"my_text.text\",\"r\")\n",
    "print(my_file.read())"
   ]
  },
  {
   "cell_type": "code",
   "execution_count": 10,
   "id": "919db413",
   "metadata": {},
   "outputs": [
    {
     "name": "stdout",
     "output_type": "stream",
     "text": [
      "welcome tushar\n"
     ]
    }
   ],
   "source": [
    "my_file = open(\"my_file.text\",\"w+\")\n",
    "my_file.write(\"welcome tushar\")\n",
    "my_file =open(\"my_file.text\",\"r\")\n",
    "print(my_file.read())"
   ]
  },
  {
   "cell_type": "code",
   "execution_count": 12,
   "id": "ecdad218",
   "metadata": {},
   "outputs": [
    {
     "name": "stdout",
     "output_type": "stream",
     "text": [
      "welcome tushar\n"
     ]
    }
   ],
   "source": [
    "my_file = open(\"my_new.text\",\"w+\")\n",
    "my_file.write(\"welcome tushar\")\n",
    "my_file =open(\"my_file.text\",\"r\")\n",
    "print(my_file.read())"
   ]
  },
  {
   "cell_type": "code",
   "execution_count": 13,
   "id": "4f456936",
   "metadata": {},
   "outputs": [
    {
     "ename": "TypeError",
     "evalue": "a bytes-like object is required, not 'str'",
     "output_type": "error",
     "traceback": [
      "\u001b[1;31m---------------------------------------------------------------------------\u001b[0m",
      "\u001b[1;31mTypeError\u001b[0m                                 Traceback (most recent call last)",
      "Cell \u001b[1;32mIn[13], line 2\u001b[0m\n\u001b[0;32m      1\u001b[0m my_file \u001b[38;5;241m=\u001b[39m \u001b[38;5;28mopen\u001b[39m(\u001b[38;5;124m\"\u001b[39m\u001b[38;5;124mmy_file.text\u001b[39m\u001b[38;5;124m\"\u001b[39m,\u001b[38;5;124m\"\u001b[39m\u001b[38;5;124mab\u001b[39m\u001b[38;5;124m\"\u001b[39m)\n\u001b[1;32m----> 2\u001b[0m my_file\u001b[38;5;241m.\u001b[39mwrite(\u001b[38;5;124m\"\u001b[39m\u001b[38;5;124mwelcome tushar\u001b[39m\u001b[38;5;124m\"\u001b[39m)\n\u001b[0;32m      3\u001b[0m my_file \u001b[38;5;241m=\u001b[39m\u001b[38;5;28mopen\u001b[39m(\u001b[38;5;124m\"\u001b[39m\u001b[38;5;124mmy_file.text\u001b[39m\u001b[38;5;124m\"\u001b[39m,\u001b[38;5;124m\"\u001b[39m\u001b[38;5;124mr\u001b[39m\u001b[38;5;124m\"\u001b[39m)\n\u001b[0;32m      4\u001b[0m \u001b[38;5;28mprint\u001b[39m(my_file\u001b[38;5;241m.\u001b[39mread())\n",
      "\u001b[1;31mTypeError\u001b[0m: a bytes-like object is required, not 'str'"
     ]
    }
   ],
   "source": [
    "my_file = open(\"my_file.text\",\"ab\")\n",
    "my_file.write(\"welcome tushar\")\n",
    "my_file =open(\"my_file.text\",\"r\")\n",
    "print(my_file.read())"
   ]
  },
  {
   "cell_type": "code",
   "execution_count": 14,
   "id": "fd92369c",
   "metadata": {},
   "outputs": [
    {
     "name": "stdout",
     "output_type": "stream",
     "text": [
      " welcome to Python & Data Science Class...!! welcome to Python & Data Science Class...!!\n"
     ]
    }
   ],
   "source": [
    "file = open(\"my_file.txt\", \"a\")\n",
    "file.write(\" welcome to Python & Data Science Class...!!\")\n",
    "file.close()\n",
    "\n",
    "file = open(\"my_file.txt\", \"r\")\n",
    "print(file.read())"
   ]
  },
  {
   "cell_type": "code",
   "execution_count": 2,
   "id": "8a89edd9",
   "metadata": {},
   "outputs": [
    {
     "name": "stdout",
     "output_type": "stream",
     "text": [
      " welcome to Python & Data Science Class...!!\n"
     ]
    }
   ],
   "source": [
    "file = open(\"my_file.txt\", \"a\")\n",
    "file.write(\" welcome to Python & Data Science Class...!!\")\n",
    "\n",
    "file = open(\"my_file.txt\", \"r\")\n",
    "print(file.readline())"
   ]
  },
  {
   "cell_type": "code",
   "execution_count": 1,
   "id": "d3118ed7",
   "metadata": {},
   "outputs": [],
   "source": [
    "my_file = open(\"my_name.txt\",\"x\")\n"
   ]
  },
  {
   "cell_type": "markdown",
   "id": "98814a36",
   "metadata": {},
   "source": [
    "To delete a file, must import the OS module and run the os.remove() function"
   ]
  },
  {
   "cell_type": "code",
   "execution_count": 4,
   "id": "bb86a79e",
   "metadata": {},
   "outputs": [],
   "source": [
    "import os\n",
    "os.remove(\"my_file.txt\")"
   ]
  },
  {
   "cell_type": "code",
   "execution_count": 5,
   "id": "798601df",
   "metadata": {},
   "outputs": [
    {
     "name": "stdout",
     "output_type": "stream",
     "text": [
      "The file does not exist...!!\n"
     ]
    }
   ],
   "source": [
    "if os.path.exists(\"my_file.txt\"):\n",
    "    os.remove(\"my_file.txt\")\n",
    "else:\n",
    "    print(\"The file does not exist...!!\")"
   ]
  },
  {
   "cell_type": "code",
   "execution_count": 7,
   "id": "cce40eb5",
   "metadata": {},
   "outputs": [
    {
     "name": "stdout",
     "output_type": "stream",
     "text": [
      "The file does not exist...!!\n"
     ]
    }
   ],
   "source": [
    "if os.path.exists(\"my_file.txt\"):\n",
    "    os.remove(\"my_file.txt\")\n",
    "else:\n",
    "    print(\"The file does not exist...!!\")\n"
   ]
  },
  {
   "cell_type": "code",
   "execution_count": 8,
   "id": "c0e8000c",
   "metadata": {},
   "outputs": [
    {
     "name": "stdout",
     "output_type": "stream",
     "text": [
      "yes, file is present\n"
     ]
    }
   ],
   "source": [
    "if os.path.exists(\"my_text.text\"):\n",
    "    print(\"yes, file is present\")\n",
    "else:\n",
    "    print(\"The file does not exist...!!\")\n"
   ]
  },
  {
   "cell_type": "code",
   "execution_count": null,
   "id": "33ce4cf4",
   "metadata": {},
   "outputs": [],
   "source": [
    "Delete Directory:\n",
    "    To delete an entire directory (Folder) os.rmdir() method"
   ]
  },
  {
   "cell_type": "markdown",
   "id": "8c7f3956",
   "metadata": {},
   "source": [
    "Synchronous Programming in Python\n",
    "Characteristics:\n",
    "\n",
    "Blocking: Each operation must complete before the next one starts. If a task involves waiting (e.g., for a network response), the entire program waits.\n",
    "Simple Flow: Easier to write and debug because tasks are executed in a straightforward, sequential manner.\n",
    "Inefficiency with I/O-bound Tasks: If one task involves waiting for I/O, the CPU sits idle, leading to potential inefficiencies."
   ]
  },
  {
   "cell_type": "code",
   "execution_count": null,
   "id": "1afc28a5",
   "metadata": {},
   "outputs": [],
   "source": [
    "Asynchronous Programming in Python\n",
    "Characteristics:\n",
    "\n",
    "Non-blocking: Tasks can be initiated and the program doesn't wait for them to complete before starting other tasks.\n",
    "Concurrency: Multiple tasks can be in progress at the same time, improving efficiency, especially in I/O-bound operations.\n",
    "Complexity: Requires understanding of concepts like async, await, event loops, and coroutines, making it more complex to write and debug"
   ]
  }
 ],
 "metadata": {
  "kernelspec": {
   "display_name": "Python 3 (ipykernel)",
   "language": "python",
   "name": "python3"
  },
  "language_info": {
   "codemirror_mode": {
    "name": "ipython",
    "version": 3
   },
   "file_extension": ".py",
   "mimetype": "text/x-python",
   "name": "python",
   "nbconvert_exporter": "python",
   "pygments_lexer": "ipython3",
   "version": "3.11.5"
  }
 },
 "nbformat": 4,
 "nbformat_minor": 5
}
