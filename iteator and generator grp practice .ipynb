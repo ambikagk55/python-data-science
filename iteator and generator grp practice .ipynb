{
 "cells": [
  {
   "cell_type": "code",
   "execution_count": 7,
   "id": "129c00db",
   "metadata": {},
   "outputs": [
    {
     "name": "stdout",
     "output_type": "stream",
     "text": [
      "<__main__.my_class object at 0x0000026111E3E490>\n",
      "<__main__.my_class object at 0x0000026111E3E490>\n",
      "2\n",
      "3\n"
     ]
    }
   ],
   "source": [
    "class my_class:\n",
    "    def __iter__(self):\n",
    "        self.x = 2\n",
    "        return self\n",
    "        \n",
    "    def __next__(self):\n",
    "        y = self.x\n",
    "        self.x =  self.x + 1\n",
    "        return y\n",
    "obj = my_class()\n",
    "my_iter = iter(obj)\n",
    "\n",
    "print(obj)\n",
    "print(my_iter)\n",
    "\n",
    "print(next(my_iter))\n",
    "print(next(my_iter))"
   ]
  },
  {
   "cell_type": "code",
   "execution_count": 20,
   "id": "f999d335",
   "metadata": {},
   "outputs": [
    {
     "name": "stdout",
     "output_type": "stream",
     "text": [
      "5\n",
      "7\n",
      "9\n",
      "11\n",
      "13\n"
     ]
    }
   ],
   "source": [
    "class myfun:\n",
    "    def __iter__(self):\n",
    "        self.x = 5\n",
    "        return self\n",
    "    def __next__(self):\n",
    "        y = self.x\n",
    "        self.x = self.x + 2\n",
    "        return y\n",
    "obj_1 = myfun()\n",
    "my_new = iter(obj_1)\n",
    "\n",
    "print(next(my_new))\n",
    "print(next(my_new))\n",
    "print(next(my_new))\n",
    "print(next(my_new))\n"
   ]
  },
  {
   "cell_type": "code",
   "execution_count": 23,
   "id": "c7057cfd",
   "metadata": {},
   "outputs": [
    {
     "name": "stdout",
     "output_type": "stream",
     "text": [
      "5\n",
      "7\n",
      "9\n",
      "11\n",
      "13\n",
      "15\n",
      "17\n",
      "19\n"
     ]
    },
    {
     "ename": "StopIteration",
     "evalue": "",
     "output_type": "error",
     "traceback": [
      "\u001b[1;31m---------------------------------------------------------------------------\u001b[0m",
      "\u001b[1;31mStopIteration\u001b[0m                             Traceback (most recent call last)",
      "Cell \u001b[1;32mIn[23], line 24\u001b[0m\n\u001b[0;32m     22\u001b[0m \u001b[38;5;28mprint\u001b[39m(\u001b[38;5;28mnext\u001b[39m(my_lt))\n\u001b[0;32m     23\u001b[0m \u001b[38;5;28mprint\u001b[39m(\u001b[38;5;28mnext\u001b[39m(my_lt))\n\u001b[1;32m---> 24\u001b[0m \u001b[38;5;28mprint\u001b[39m(\u001b[38;5;28mnext\u001b[39m(my_lt))\n",
      "Cell \u001b[1;32mIn[23], line 11\u001b[0m, in \u001b[0;36mmyfun.__next__\u001b[1;34m(self)\u001b[0m\n\u001b[0;32m      9\u001b[0m     \u001b[38;5;28;01mreturn\u001b[39;00m y\n\u001b[0;32m     10\u001b[0m \u001b[38;5;28;01melse\u001b[39;00m:\n\u001b[1;32m---> 11\u001b[0m     \u001b[38;5;28;01mraise\u001b[39;00m \u001b[38;5;167;01mStopIteration\u001b[39;00m\n",
      "\u001b[1;31mStopIteration\u001b[0m: "
     ]
    }
   ],
   "source": [
    "class myfun:\n",
    "    def __iter__(self):\n",
    "        self.x = 5\n",
    "        return self\n",
    "    def __next__(self):\n",
    "        if self.x<20:\n",
    "            y = self.x\n",
    "            self.x = self.x + 2\n",
    "            return y\n",
    "        else:\n",
    "            raise StopIteration\n",
    "    \n",
    "obj_1 = myfun()\n",
    "my_lt = iter(obj_1)\n",
    "\n",
    "print(next(my_lt))\n",
    "print(next(my_lt))\n",
    "print(next(my_lt))\n",
    "print(next(my_lt))\n",
    "print(next(my_lt))\n",
    "print(next(my_lt))\n",
    "print(next(my_lt))\n",
    "print(next(my_lt))\n",
    "print(next(my_lt))"
   ]
  },
  {
   "cell_type": "code",
   "execution_count": 28,
   "id": "6f868c43",
   "metadata": {},
   "outputs": [
    {
     "name": "stdout",
     "output_type": "stream",
     "text": [
      "0\n",
      "1\n",
      "1\n",
      "2\n",
      "3\n",
      "\n",
      " Using for in loop\n",
      "0\n",
      "1\n",
      "1\n",
      "2\n",
      "3\n"
     ]
    }
   ],
   "source": [
    "def fib(limit):\n",
    "    \n",
    "    # Intialize first two Fibonacci Numbers\n",
    "    a, b = 0, 1\n",
    "    \n",
    "    #one by one yield next Fibonacci Numbers\n",
    "    while a < limit:\n",
    "        yield a\n",
    "        \n",
    "        a, b = b, a + b\n",
    "        \n",
    "# Create a Generator object\n",
    "x = fib(5)\n",
    "\n",
    "print(next(x))\n",
    "print(next(x))\n",
    "print(next(x))\n",
    "print(next(x))\n",
    "print(next(x))\n",
    "\n",
    "print(\"\\n Using for in loop\")\n",
    "for i in fib(5):\n",
    "    print(i)"
   ]
  },
  {
   "cell_type": "code",
   "execution_count": null,
   "id": "4fcd840b",
   "metadata": {},
   "outputs": [],
   "source": []
  }
 ],
 "metadata": {
  "kernelspec": {
   "display_name": "Python 3 (ipykernel)",
   "language": "python",
   "name": "python3"
  },
  "language_info": {
   "codemirror_mode": {
    "name": "ipython",
    "version": 3
   },
   "file_extension": ".py",
   "mimetype": "text/x-python",
   "name": "python",
   "nbconvert_exporter": "python",
   "pygments_lexer": "ipython3",
   "version": "3.11.5"
  }
 },
 "nbformat": 4,
 "nbformat_minor": 5
}
